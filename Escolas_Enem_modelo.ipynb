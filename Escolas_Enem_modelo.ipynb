{
 "cells": [
  {
   "cell_type": "code",
   "execution_count": 1,
   "metadata": {},
   "outputs": [
    {
     "name": "stderr",
     "output_type": "stream",
     "text": [
      "/Applications/anaconda/lib/python3.6/site-packages/statsmodels/compat/pandas.py:56: FutureWarning: The pandas.core.datetools module is deprecated and will be removed in a future version. Please use the pandas.tseries module instead.\n",
      "  from pandas.core import datetools\n",
      "/Applications/anaconda/lib/python3.6/site-packages/sklearn/cross_validation.py:41: DeprecationWarning: This module was deprecated in version 0.18 in favor of the model_selection module into which all the refactored classes and functions are moved. Also note that the interface of the new CV iterators are different from that of this module. This module will be removed in 0.20.\n",
      "  \"This module will be removed in 0.20.\", DeprecationWarning)\n"
     ]
    }
   ],
   "source": [
    "import statsmodels.api as sm\n",
    "import statsmodels.formula.api as smf\n",
    "import pandas as pd\n",
    "import sklearn\n",
    "import numpy as np\n",
    "from sklearn import preprocessing\n",
    "import matplotlib.pyplot as plt \n",
    "%matplotlib inline\n",
    "plt.rc(\"font\", size=14)\n",
    "from sklearn.linear_model import LogisticRegression\n",
    "from sklearn.cross_validation import train_test_split\n",
    "from sklearn.ensemble import RandomForestRegressor\n",
    "import seaborn as sns\n",
    "sns.set(style=\"white\")\n",
    "sns.set(style=\"whitegrid\", color_codes=True)"
   ]
  },
  {
   "cell_type": "code",
   "execution_count": 2,
   "metadata": {
    "collapsed": true
   },
   "outputs": [],
   "source": [
    "df_modelo_inicio = pd.read_pickle(\"df_alunos_escolas_modelo_pickle\")"
   ]
  },
  {
   "cell_type": "code",
   "execution_count": 21,
   "metadata": {},
   "outputs": [
    {
     "data": {
      "text/plain": [
       "1376414"
      ]
     },
     "execution_count": 21,
     "metadata": {},
     "output_type": "execute_result"
    }
   ],
   "source": [
    "len(df_modelo_inicio)"
   ]
  },
  {
   "cell_type": "code",
   "execution_count": 4,
   "metadata": {
    "scrolled": false
   },
   "outputs": [
    {
     "data": {
      "text/plain": [
       "['NU_INSCRICAO',\n",
       " 'NU_IDADE',\n",
       " 'TP_SEXO',\n",
       " 'TP_ESTADO_CIVIL',\n",
       " 'TP_COR_RACA',\n",
       " 'TP_ST_CONCLUSAO',\n",
       " 'TP_ENSINO',\n",
       " 'CO_MUNICIPIO_RESIDENCIA',\n",
       " 'CO_MUNICIPIO_ESC',\n",
       " 'SG_UF_ESC_x',\n",
       " 'TP_DEPENDENCIA_ADM_ESC_x',\n",
       " 'TP_LOCALIZACAO_ESC_x',\n",
       " 'IN_BAIXA_VISAO',\n",
       " 'IN_CEGUEIRA',\n",
       " 'IN_SURDEZ',\n",
       " 'IN_DEFICIENCIA_AUDITIVA',\n",
       " 'IN_SURDO_CEGUEIRA',\n",
       " 'IN_DEFICIENCIA_FISICA',\n",
       " 'IN_DEFICIENCIA_MENTAL',\n",
       " 'IN_DEFICIT_ATENCAO',\n",
       " 'IN_DISLEXIA',\n",
       " 'IN_DISCALCULIA',\n",
       " 'IN_AUTISMO',\n",
       " 'IN_VISAO_MONOCULAR',\n",
       " 'IN_OUTRA_DEF',\n",
       " 'CO_MUNICIPIO_PROVA',\n",
       " 'Q001',\n",
       " 'Q002',\n",
       " 'Q003',\n",
       " 'Q004',\n",
       " 'Q005',\n",
       " 'Q007',\n",
       " 'Q008',\n",
       " 'Q009',\n",
       " 'Q010',\n",
       " 'Q011',\n",
       " 'Q012',\n",
       " 'Q013',\n",
       " 'Q014',\n",
       " 'Q015',\n",
       " 'Q016',\n",
       " 'Q017',\n",
       " 'Q018',\n",
       " 'Q019',\n",
       " 'Q020',\n",
       " 'Q021',\n",
       " 'Q022',\n",
       " 'Q023',\n",
       " 'Q024',\n",
       " 'Q025',\n",
       " 'Q026',\n",
       " 'Q027',\n",
       " 'Q028',\n",
       " 'Q029',\n",
       " 'Q030',\n",
       " 'Q031',\n",
       " 'Q032',\n",
       " 'Q033',\n",
       " 'Q034',\n",
       " 'Q035',\n",
       " 'Q036',\n",
       " 'Q037',\n",
       " 'Q038',\n",
       " 'Q039',\n",
       " 'Q040',\n",
       " 'Q041',\n",
       " 'Q042',\n",
       " 'Q043',\n",
       " 'Q044',\n",
       " 'Q045',\n",
       " 'Q046',\n",
       " 'Q047',\n",
       " 'Q048',\n",
       " 'Q049',\n",
       " 'Q050\\n',\n",
       " 'faixa_renda',\n",
       " 'renda_per_capita',\n",
       " 'IN_AGUA_REDE_PUBLICA',\n",
       " 'IN_AGUA_INEXISTENTE',\n",
       " 'IN_ENERGIA_REDE_PUBLICA',\n",
       " 'IN_ENERGIA_INEXISTENTE',\n",
       " 'IN_ESGOTO_REDE_PUBLICA',\n",
       " 'IN_ESGOTO_INEXISTENTE',\n",
       " 'IN_LIXO_COLETA_PERIODICA',\n",
       " 'IN_SALA_DIRETORIA',\n",
       " 'IN_SALA_PROFESSOR',\n",
       " 'IN_LABORATORIO_INFORMATICA',\n",
       " 'IN_LABORATORIO_CIENCIAS',\n",
       " 'IN_QUADRA_ESPORTES_COBERTA',\n",
       " 'IN_QUADRA_ESPORTES_DESCOBERTA',\n",
       " 'IN_COZINHA',\n",
       " 'IN_BIBLIOTECA',\n",
       " 'IN_SALA_LEITURA',\n",
       " 'IN_PARQUE_INFANTIL',\n",
       " 'IN_BANHEIRO_DENTRO_PREDIO',\n",
       " 'IN_REFEITORIO',\n",
       " 'IN_DESPENSA',\n",
       " 'IN_ALMOXARIFADO',\n",
       " 'IN_AUDITORIO',\n",
       " 'IN_PATIO_COBERTO',\n",
       " 'IN_INTERNET',\n",
       " 'IN_BANDA_LARGA',\n",
       " 'renda_per_capita_media_classe_quartil',\n",
       " 'in_qualif_docente_media_classe_quartil',\n",
       " 'NU_COMP_ALUNO_por_aluno_classe_quartil',\n",
       " 'NU_EQUIP_MULTIMIDIA_por_aluno_classe_quartil',\n",
       " 'NU_FUNCIONARIOS_por_aluno_classe_quartil',\n",
       " 'percentual_de_salas_utilizadas_classe_quartil',\n",
       " 'num_alunos_por_SALA_classe_quartil',\n",
       " 'faixa_valor_IEE',\n",
       " 'media_geral_aluno',\n",
       " 'dummy_600']"
      ]
     },
     "execution_count": 4,
     "metadata": {},
     "output_type": "execute_result"
    }
   ],
   "source": [
    "list(df_modelo_inicio)"
   ]
  },
  {
   "cell_type": "code",
   "execution_count": 5,
   "metadata": {
    "collapsed": true
   },
   "outputs": [],
   "source": [
    "df_modelo_trabalhado = df_modelo_inicio"
   ]
  },
  {
   "cell_type": "markdown",
   "metadata": {},
   "source": [
    "#### 0. Eliminando valores em branco"
   ]
  },
  {
   "cell_type": "code",
   "execution_count": 6,
   "metadata": {
    "collapsed": true
   },
   "outputs": [],
   "source": [
    "df_modelo_trabalhado = df_modelo_trabalhado[df_modelo_trabalhado['NU_IDADE'] != ''].reset_index()"
   ]
  },
  {
   "cell_type": "code",
   "execution_count": 22,
   "metadata": {},
   "outputs": [
    {
     "data": {
      "text/plain": [
       "1376382"
      ]
     },
     "execution_count": 22,
     "metadata": {},
     "output_type": "execute_result"
    }
   ],
   "source": [
    "len(df_modelo_trabalhado)"
   ]
  },
  {
   "cell_type": "markdown",
   "metadata": {},
   "source": [
    "#### 1. Transformação de variáveis"
   ]
  },
  {
   "cell_type": "code",
   "execution_count": 10,
   "metadata": {
    "collapsed": true
   },
   "outputs": [],
   "source": [
    "# Criando variáveis derivadas de municípios\n",
    "df_modelo_trabalhado['in_mun_res_mesmo_esc'] = (df_modelo_trabalhado['CO_MUNICIPIO_RESIDENCIA'] == df_modelo_trabalhado['CO_MUNICIPIO_ESC'])*1\n",
    "df_modelo_trabalhado['in_mun_esc_mesmo_prv'] = (df_modelo_trabalhado['CO_MUNICIPIO_ESC'] == df_modelo_trabalhado['CO_MUNICIPIO_PROVA'])*1\n",
    "#['a','b','c'] == ['a','d','c']"
   ]
  },
  {
   "cell_type": "code",
   "execution_count": 11,
   "metadata": {
    "collapsed": true
   },
   "outputs": [],
   "source": [
    "# Criando categorias em variáveis numéricas\n",
    "def cat_idade(x):\n",
    "    if int(x) < 18:\n",
    "        y = 'menor_que_18'\n",
    "    elif int(x) < 20:\n",
    "        y = '18_19'\n",
    "    else:\n",
    "        y = 'maior_que_19'\n",
    "    return y\n",
    "df_modelo_trabalhado['categoria_idade'] = df_modelo_trabalhado['NU_IDADE'].map(cat_idade)"
   ]
  },
  {
   "cell_type": "code",
   "execution_count": 12,
   "metadata": {
    "collapsed": true
   },
   "outputs": [],
   "source": [
    "# Criando categorias em variáveis numéricas\n",
    "def cat_Q005(x):\n",
    "    if int(x) < 4:\n",
    "        y = 'ate_3'\n",
    "    elif int(x) < 6:\n",
    "        y = '3_a_5'\n",
    "    else:\n",
    "        y = 'maior_que_5'\n",
    "    return y\n",
    "df_modelo_trabalhado['categoria_num_pessoas_domicilio'] = df_modelo_trabalhado['Q005'].map(cat_Q005)"
   ]
  },
  {
   "cell_type": "code",
   "execution_count": 13,
   "metadata": {
    "collapsed": true
   },
   "outputs": [],
   "source": [
    "# Criando categorias em outras variáveis\n",
    "def cat_motivo(x):\n",
    "    if x == '5':\n",
    "        y = 1\n",
    "    else:\n",
    "        y = 0\n",
    "    return y\n",
    "df_modelo_trabalhado['ind_motivo_testar'] = df_modelo_trabalhado['Q034'].map(cat_motivo)\n",
    "df_modelo_trabalhado['ind_motivo_ingressar_es_publico'] = df_modelo_trabalhado['Q035'].map(cat_motivo)\n",
    "df_modelo_trabalhado['ind_motivo_ingressar_es_privado'] = df_modelo_trabalhado['Q036'].map(cat_motivo)\n",
    "df_modelo_trabalhado['ind_motivo_bolsa_prouni'] = df_modelo_trabalhado['Q037'].map(cat_motivo)\n",
    "df_modelo_trabalhado['ind_motivo_bolsa_fies'] = df_modelo_trabalhado['Q038'].map(cat_motivo)\n",
    "df_modelo_trabalhado['ind_motivo_CSF'] = df_modelo_trabalhado['Q039'].map(cat_motivo)\n",
    "df_modelo_trabalhado['ind_motivo_emprego'] = df_modelo_trabalhado['Q040'].map(cat_motivo)\n",
    "df_modelo_trabalhado['ind_motivo_promocao'] = df_modelo_trabalhado['Q041'].map(cat_motivo)"
   ]
  },
  {
   "cell_type": "code",
   "execution_count": 14,
   "metadata": {},
   "outputs": [
    {
     "name": "stdout",
     "output_type": "stream",
     "text": [
      "categoria_idade\n",
      "TP_SEXO\n",
      "TP_ESTADO_CIVIL\n",
      "TP_COR_RACA\n",
      "TP_ST_CONCLUSAO\n",
      "SG_UF_ESC_x\n",
      "TP_DEPENDENCIA_ADM_ESC_x\n",
      "TP_LOCALIZACAO_ESC_x\n",
      "Q001\n",
      "Q002\n",
      "Q003\n",
      "Q004\n",
      "categoria_num_pessoas_domicilio\n",
      "Q007\n",
      "Q008\n",
      "Q009\n",
      "Q010\n",
      "Q011\n",
      "Q012\n",
      "Q013\n",
      "Q014\n",
      "Q015\n",
      "Q016\n",
      "Q017\n",
      "Q018\n",
      "Q019\n",
      "Q020\n",
      "Q021\n",
      "Q022\n",
      "Q023\n",
      "Q024\n",
      "Q025\n",
      "Q026\n",
      "Q042\n",
      "Q043\n",
      "Q044\n",
      "Q045\n",
      "Q046\n",
      "Q047\n",
      "Q048\n",
      "Q049\n",
      "Q050\n",
      "\n",
      "renda_per_capita_media_classe_quartil\n",
      "in_qualif_docente_media_classe_quartil\n",
      "NU_COMP_ALUNO_por_aluno_classe_quartil\n",
      "NU_EQUIP_MULTIMIDIA_por_aluno_classe_quartil\n",
      "NU_FUNCIONARIOS_por_aluno_classe_quartil\n",
      "percentual_de_salas_utilizadas_classe_quartil\n",
      "num_alunos_por_SALA_classe_quartil\n",
      "faixa_valor_IEE\n"
     ]
    }
   ],
   "source": [
    "# Binarizando categóricas\n",
    "lista_binarizar = ['categoria_idade', 'TP_SEXO', 'TP_ESTADO_CIVIL', 'TP_COR_RACA', 'TP_ST_CONCLUSAO', 'SG_UF_ESC_x', 'TP_DEPENDENCIA_ADM_ESC_x', 'TP_LOCALIZACAO_ESC_x', 'Q001', 'Q002', 'Q003', 'Q004', 'categoria_num_pessoas_domicilio', 'Q007', 'Q008', 'Q009', 'Q010', 'Q011', 'Q012', 'Q013', 'Q014', 'Q015', 'Q016', 'Q017', 'Q018', 'Q019', 'Q020', 'Q021', 'Q022', 'Q023', 'Q024', 'Q025', 'Q026', 'Q042', 'Q043', 'Q044', 'Q045', 'Q046', 'Q047', 'Q048', 'Q049', 'Q050\\n', 'renda_per_capita_media_classe_quartil', 'in_qualif_docente_media_classe_quartil', 'NU_COMP_ALUNO_por_aluno_classe_quartil', 'NU_EQUIP_MULTIMIDIA_por_aluno_classe_quartil', 'NU_FUNCIONARIOS_por_aluno_classe_quartil', 'percentual_de_salas_utilizadas_classe_quartil', 'num_alunos_por_SALA_classe_quartil', 'faixa_valor_IEE']\n",
    "#lista_binarizar = ['renda_per_capita_media_classe_quartil']\n",
    "\n",
    "for i in lista_binarizar:\n",
    "    lista_colunas = list(set(df_modelo_trabalhado[i]))\n",
    "    for j in lista_colunas:\n",
    "        valor_nova_coluna = j\n",
    "        nome_nova_coluna = i + '_' + str(valor_nova_coluna)\n",
    "        def binariza(x):\n",
    "                if x == valor_nova_coluna:\n",
    "                    y = 1\n",
    "                else:\n",
    "                    y = 0\n",
    "                return y\n",
    "        df_modelo_trabalhado[nome_nova_coluna] = df_modelo_trabalhado[i].map(binariza)\n",
    "    print(i)"
   ]
  },
  {
   "cell_type": "code",
   "execution_count": 15,
   "metadata": {
    "collapsed": true
   },
   "outputs": [],
   "source": [
    "df_modelo_trabalhado['label'] = (df_modelo_trabalhado['media_geral_aluno'] >= 5.616200e+02)*1"
   ]
  },
  {
   "cell_type": "code",
   "execution_count": 26,
   "metadata": {},
   "outputs": [
    {
     "data": {
      "text/plain": [
       "['index',\n",
       " 'NU_INSCRICAO',\n",
       " 'NU_IDADE',\n",
       " 'TP_SEXO',\n",
       " 'TP_ESTADO_CIVIL',\n",
       " 'TP_COR_RACA',\n",
       " 'TP_ST_CONCLUSAO',\n",
       " 'TP_ENSINO',\n",
       " 'CO_MUNICIPIO_RESIDENCIA',\n",
       " 'CO_MUNICIPIO_ESC',\n",
       " 'SG_UF_ESC_x',\n",
       " 'TP_DEPENDENCIA_ADM_ESC_x',\n",
       " 'TP_LOCALIZACAO_ESC_x',\n",
       " 'IN_BAIXA_VISAO',\n",
       " 'IN_CEGUEIRA',\n",
       " 'IN_SURDEZ',\n",
       " 'IN_DEFICIENCIA_AUDITIVA',\n",
       " 'IN_SURDO_CEGUEIRA',\n",
       " 'IN_DEFICIENCIA_FISICA',\n",
       " 'IN_DEFICIENCIA_MENTAL',\n",
       " 'IN_DEFICIT_ATENCAO',\n",
       " 'IN_DISLEXIA',\n",
       " 'IN_DISCALCULIA',\n",
       " 'IN_AUTISMO',\n",
       " 'IN_VISAO_MONOCULAR',\n",
       " 'IN_OUTRA_DEF',\n",
       " 'CO_MUNICIPIO_PROVA',\n",
       " 'Q001',\n",
       " 'Q002',\n",
       " 'Q003',\n",
       " 'Q004',\n",
       " 'Q005',\n",
       " 'Q007',\n",
       " 'Q008',\n",
       " 'Q009',\n",
       " 'Q010',\n",
       " 'Q011',\n",
       " 'Q012',\n",
       " 'Q013',\n",
       " 'Q014',\n",
       " 'Q015',\n",
       " 'Q016',\n",
       " 'Q017',\n",
       " 'Q018',\n",
       " 'Q019',\n",
       " 'Q020',\n",
       " 'Q021',\n",
       " 'Q022',\n",
       " 'Q023',\n",
       " 'Q024',\n",
       " 'Q025',\n",
       " 'Q026',\n",
       " 'Q027',\n",
       " 'Q028',\n",
       " 'Q029',\n",
       " 'Q030',\n",
       " 'Q031',\n",
       " 'Q032',\n",
       " 'Q033',\n",
       " 'Q034',\n",
       " 'Q035',\n",
       " 'Q036',\n",
       " 'Q037',\n",
       " 'Q038',\n",
       " 'Q039',\n",
       " 'Q040',\n",
       " 'Q041',\n",
       " 'Q042',\n",
       " 'Q043',\n",
       " 'Q044',\n",
       " 'Q045',\n",
       " 'Q046',\n",
       " 'Q047',\n",
       " 'Q048',\n",
       " 'Q049',\n",
       " 'Q050\\n',\n",
       " 'faixa_renda',\n",
       " 'renda_per_capita',\n",
       " 'IN_AGUA_REDE_PUBLICA',\n",
       " 'IN_AGUA_INEXISTENTE',\n",
       " 'IN_ENERGIA_REDE_PUBLICA',\n",
       " 'IN_ENERGIA_INEXISTENTE',\n",
       " 'IN_ESGOTO_REDE_PUBLICA',\n",
       " 'IN_ESGOTO_INEXISTENTE',\n",
       " 'IN_LIXO_COLETA_PERIODICA',\n",
       " 'IN_SALA_DIRETORIA',\n",
       " 'IN_SALA_PROFESSOR',\n",
       " 'IN_LABORATORIO_INFORMATICA',\n",
       " 'IN_LABORATORIO_CIENCIAS',\n",
       " 'IN_QUADRA_ESPORTES_COBERTA',\n",
       " 'IN_QUADRA_ESPORTES_DESCOBERTA',\n",
       " 'IN_COZINHA',\n",
       " 'IN_BIBLIOTECA',\n",
       " 'IN_SALA_LEITURA',\n",
       " 'IN_PARQUE_INFANTIL',\n",
       " 'IN_BANHEIRO_DENTRO_PREDIO',\n",
       " 'IN_REFEITORIO',\n",
       " 'IN_DESPENSA',\n",
       " 'IN_ALMOXARIFADO',\n",
       " 'IN_AUDITORIO',\n",
       " 'IN_PATIO_COBERTO',\n",
       " 'IN_INTERNET',\n",
       " 'IN_BANDA_LARGA',\n",
       " 'renda_per_capita_media_classe_quartil',\n",
       " 'in_qualif_docente_media_classe_quartil',\n",
       " 'NU_COMP_ALUNO_por_aluno_classe_quartil',\n",
       " 'NU_EQUIP_MULTIMIDIA_por_aluno_classe_quartil',\n",
       " 'NU_FUNCIONARIOS_por_aluno_classe_quartil',\n",
       " 'percentual_de_salas_utilizadas_classe_quartil',\n",
       " 'num_alunos_por_SALA_classe_quartil',\n",
       " 'faixa_valor_IEE',\n",
       " 'media_geral_aluno',\n",
       " 'dummy_600',\n",
       " 'in_mun_res_mesmo_esc',\n",
       " 'in_mun_esc_mesmo_prv',\n",
       " 'categoria_idade',\n",
       " 'categoria_num_pessoas_domicilio',\n",
       " 'ind_motivo_testar',\n",
       " 'ind_motivo_ingressar_es_publico',\n",
       " 'ind_motivo_ingressar_es_privado',\n",
       " 'ind_motivo_bolsa_prouni',\n",
       " 'ind_motivo_bolsa_fies',\n",
       " 'ind_motivo_CSF',\n",
       " 'ind_motivo_emprego',\n",
       " 'ind_motivo_promocao',\n",
       " 'categoria_idade_maior_que_19',\n",
       " 'categoria_idade_menor_que_18',\n",
       " 'categoria_idade_18_19',\n",
       " 'TP_SEXO_M',\n",
       " 'TP_SEXO_F',\n",
       " 'TP_ESTADO_CIVIL_',\n",
       " 'TP_ESTADO_CIVIL_2',\n",
       " 'TP_ESTADO_CIVIL_3',\n",
       " 'TP_ESTADO_CIVIL_1',\n",
       " 'TP_ESTADO_CIVIL_0',\n",
       " 'TP_COR_RACA_4',\n",
       " 'TP_COR_RACA_2',\n",
       " 'TP_COR_RACA_3',\n",
       " 'TP_COR_RACA_5',\n",
       " 'TP_COR_RACA_6',\n",
       " 'TP_COR_RACA_1',\n",
       " 'TP_COR_RACA_0',\n",
       " 'TP_ST_CONCLUSAO_2',\n",
       " 'SG_UF_ESC_x_BA',\n",
       " 'SG_UF_ESC_x_MS',\n",
       " 'SG_UF_ESC_x_RN',\n",
       " 'SG_UF_ESC_x_MG',\n",
       " 'SG_UF_ESC_x_RO',\n",
       " 'SG_UF_ESC_x_PE',\n",
       " 'SG_UF_ESC_x_MA',\n",
       " 'SG_UF_ESC_x_AP',\n",
       " 'SG_UF_ESC_x_TO',\n",
       " 'SG_UF_ESC_x_GO',\n",
       " 'SG_UF_ESC_x_RJ',\n",
       " 'SG_UF_ESC_x_SP',\n",
       " 'SG_UF_ESC_x_AL',\n",
       " 'SG_UF_ESC_x_AC',\n",
       " 'SG_UF_ESC_x_MT',\n",
       " 'SG_UF_ESC_x_RR',\n",
       " 'SG_UF_ESC_x_RS',\n",
       " 'SG_UF_ESC_x_PR',\n",
       " 'SG_UF_ESC_x_DF',\n",
       " 'SG_UF_ESC_x_PI',\n",
       " 'SG_UF_ESC_x_AM',\n",
       " 'SG_UF_ESC_x_ES',\n",
       " 'SG_UF_ESC_x_SE',\n",
       " 'SG_UF_ESC_x_SC',\n",
       " 'SG_UF_ESC_x_CE',\n",
       " 'SG_UF_ESC_x_PA',\n",
       " 'SG_UF_ESC_x_PB',\n",
       " 'TP_DEPENDENCIA_ADM_ESC_x_2',\n",
       " 'TP_DEPENDENCIA_ADM_ESC_x_1',\n",
       " 'TP_DEPENDENCIA_ADM_ESC_x_3',\n",
       " 'TP_DEPENDENCIA_ADM_ESC_x_4',\n",
       " 'TP_LOCALIZACAO_ESC_x_2',\n",
       " 'TP_LOCALIZACAO_ESC_x_1',\n",
       " 'Q001_E',\n",
       " 'Q001_B',\n",
       " 'Q001_F',\n",
       " 'Q001_A',\n",
       " 'Q001_C',\n",
       " 'Q001_H',\n",
       " 'Q001_G',\n",
       " 'Q001_D',\n",
       " 'Q002_E',\n",
       " 'Q002_B',\n",
       " 'Q002_F',\n",
       " 'Q002_A',\n",
       " 'Q002_C',\n",
       " 'Q002_H',\n",
       " 'Q002_G',\n",
       " 'Q002_D',\n",
       " 'Q003_E',\n",
       " 'Q003_B',\n",
       " 'Q003_F',\n",
       " 'Q003_A',\n",
       " 'Q003_C',\n",
       " 'Q003_D',\n",
       " 'Q004_E',\n",
       " 'Q004_B',\n",
       " 'Q004_F',\n",
       " 'Q004_A',\n",
       " 'Q004_C',\n",
       " 'Q004_D',\n",
       " 'categoria_num_pessoas_domicilio_maior_que_5',\n",
       " 'categoria_num_pessoas_domicilio_ate_3',\n",
       " 'categoria_num_pessoas_domicilio_3_a_5',\n",
       " 'Q007_A',\n",
       " 'Q007_C',\n",
       " 'Q007_B',\n",
       " 'Q007_D',\n",
       " 'Q008_E',\n",
       " 'Q008_B',\n",
       " 'Q008_A',\n",
       " 'Q008_C',\n",
       " 'Q008_D',\n",
       " 'Q009_E',\n",
       " 'Q009_B',\n",
       " 'Q009_A',\n",
       " 'Q009_C',\n",
       " 'Q009_D',\n",
       " 'Q010_E',\n",
       " 'Q010_B',\n",
       " 'Q010_A',\n",
       " 'Q010_C',\n",
       " 'Q010_D',\n",
       " 'Q011_E',\n",
       " 'Q011_B',\n",
       " 'Q011_A',\n",
       " 'Q011_C',\n",
       " 'Q011_D',\n",
       " 'Q012_E',\n",
       " 'Q012_B',\n",
       " 'Q012_A',\n",
       " 'Q012_C',\n",
       " 'Q012_D',\n",
       " 'Q013_E',\n",
       " 'Q013_B',\n",
       " 'Q013_A',\n",
       " 'Q013_C',\n",
       " 'Q013_D',\n",
       " 'Q014_E',\n",
       " 'Q014_B',\n",
       " 'Q014_A',\n",
       " 'Q014_C',\n",
       " 'Q014_D',\n",
       " 'Q015_E',\n",
       " 'Q015_B',\n",
       " 'Q015_A',\n",
       " 'Q015_C',\n",
       " 'Q015_D',\n",
       " 'Q016_E',\n",
       " 'Q016_B',\n",
       " 'Q016_A',\n",
       " 'Q016_C',\n",
       " 'Q016_D',\n",
       " 'Q017_E',\n",
       " 'Q017_B',\n",
       " 'Q017_A',\n",
       " 'Q017_C',\n",
       " 'Q017_D',\n",
       " 'Q018_A',\n",
       " 'Q018_B',\n",
       " 'Q019_E',\n",
       " 'Q019_B',\n",
       " 'Q019_A',\n",
       " 'Q019_C',\n",
       " 'Q019_D',\n",
       " 'Q020_A',\n",
       " 'Q020_B',\n",
       " 'Q021_A',\n",
       " 'Q021_B',\n",
       " 'Q022_E',\n",
       " 'Q022_B',\n",
       " 'Q022_A',\n",
       " 'Q022_C',\n",
       " 'Q022_D',\n",
       " 'Q023_A',\n",
       " 'Q023_B',\n",
       " 'Q024_E',\n",
       " 'Q024_B',\n",
       " 'Q024_A',\n",
       " 'Q024_C',\n",
       " 'Q024_D',\n",
       " 'Q025_A',\n",
       " 'Q025_B',\n",
       " 'Q026_A',\n",
       " 'Q026_B',\n",
       " 'Q026_C',\n",
       " 'Q042_E',\n",
       " 'Q042_B',\n",
       " 'Q042_F',\n",
       " 'Q042_A',\n",
       " 'Q042_C',\n",
       " 'Q042_H',\n",
       " 'Q042_G',\n",
       " 'Q042_D',\n",
       " 'Q043_A',\n",
       " 'Q043_B',\n",
       " 'Q043_D',\n",
       " 'Q043_C',\n",
       " 'Q044_A',\n",
       " 'Q044_B',\n",
       " 'Q044_C',\n",
       " 'Q045_A',\n",
       " 'Q045_B',\n",
       " 'Q045_D',\n",
       " 'Q045_C',\n",
       " 'Q046_A',\n",
       " 'Q046_B',\n",
       " 'Q046_D',\n",
       " 'Q046_C',\n",
       " 'Q047_E',\n",
       " 'Q047_B',\n",
       " 'Q047_A',\n",
       " 'Q047_C',\n",
       " 'Q047_D',\n",
       " 'Q048_A',\n",
       " 'Q048_C',\n",
       " 'Q048_B',\n",
       " 'Q048_D',\n",
       " 'Q049_A',\n",
       " 'Q049_B',\n",
       " 'Q049_C',\n",
       " 'Q050\\n_A\\n',\n",
       " 'Q050\\n_C\\n',\n",
       " 'Q050\\n_B\\n',\n",
       " 'Q050\\n_D\\n',\n",
       " 'renda_per_capita_media_classe_quartil_0.25',\n",
       " 'renda_per_capita_media_classe_quartil_1.0',\n",
       " 'renda_per_capita_media_classe_quartil_0.5',\n",
       " 'renda_per_capita_media_classe_quartil_0.75',\n",
       " 'in_qualif_docente_media_classe_quartil_0.5',\n",
       " 'in_qualif_docente_media_classe_quartil_0.25',\n",
       " 'in_qualif_docente_media_classe_quartil_0.75',\n",
       " 'in_qualif_docente_media_classe_quartil_1.0',\n",
       " 'NU_COMP_ALUNO_por_aluno_classe_quartil_0.5',\n",
       " 'NU_COMP_ALUNO_por_aluno_classe_quartil_1.0',\n",
       " 'NU_COMP_ALUNO_por_aluno_classe_quartil_0.25',\n",
       " 'NU_COMP_ALUNO_por_aluno_classe_quartil_0.75',\n",
       " 'NU_EQUIP_MULTIMIDIA_por_aluno_classe_quartil_0.5',\n",
       " 'NU_EQUIP_MULTIMIDIA_por_aluno_classe_quartil_0.75',\n",
       " 'NU_EQUIP_MULTIMIDIA_por_aluno_classe_quartil_0.25',\n",
       " 'NU_EQUIP_MULTIMIDIA_por_aluno_classe_quartil_1.0',\n",
       " 'NU_FUNCIONARIOS_por_aluno_classe_quartil_0.5',\n",
       " 'NU_FUNCIONARIOS_por_aluno_classe_quartil_0.25',\n",
       " 'NU_FUNCIONARIOS_por_aluno_classe_quartil_1.0',\n",
       " 'NU_FUNCIONARIOS_por_aluno_classe_quartil_0.75',\n",
       " 'percentual_de_salas_utilizadas_classe_quartil_0.5',\n",
       " 'percentual_de_salas_utilizadas_classe_quartil_0.25',\n",
       " 'percentual_de_salas_utilizadas_classe_quartil_1.0',\n",
       " 'num_alunos_por_SALA_classe_quartil_0.5',\n",
       " 'num_alunos_por_SALA_classe_quartil_1.0',\n",
       " 'num_alunos_por_SALA_classe_quartil_0.25',\n",
       " 'num_alunos_por_SALA_classe_quartil_0.75',\n",
       " 'faixa_valor_IEE_a. menor que 5',\n",
       " 'faixa_valor_IEE_e. de 12,5 a 15',\n",
       " 'faixa_valor_IEE_d. de 10 a 12,5',\n",
       " 'faixa_valor_IEE_b. de 5 a 7,5',\n",
       " 'faixa_valor_IEE_c. de 7,5 a 10',\n",
       " 'label']"
      ]
     },
     "execution_count": 26,
     "metadata": {},
     "output_type": "execute_result"
    }
   ],
   "source": [
    "list(df_modelo_trabalhado)"
   ]
  },
  {
   "cell_type": "code",
   "execution_count": 17,
   "metadata": {},
   "outputs": [
    {
     "data": {
      "text/plain": [
       "count    1.376382e+06\n",
       "mean     5.114743e+02\n",
       "std      8.826821e+01\n",
       "min      0.000000e+00\n",
       "25%      4.608800e+02\n",
       "50%      5.051000e+02\n",
       "75%      5.616200e+02\n",
       "max      8.546000e+02\n",
       "Name: media_geral_aluno, dtype: float64"
      ]
     },
     "execution_count": 17,
     "metadata": {},
     "output_type": "execute_result"
    }
   ],
   "source": [
    "df_modelo_trabalhado['media_geral_aluno'].describe()"
   ]
  },
  {
   "cell_type": "code",
   "execution_count": 25,
   "metadata": {
    "scrolled": true
   },
   "outputs": [
    {
     "data": {
      "text/plain": [
       "<matplotlib.axes._subplots.AxesSubplot at 0x135492e80>"
      ]
     },
     "execution_count": 25,
     "metadata": {},
     "output_type": "execute_result"
    },
    {
     "data": {
      "image/png": "[encoded data removed]",
      "text/plain": [
       "<matplotlib.figure.Figure at 0x1354925c0>"
      ]
     },
     "metadata": {},
     "output_type": "display_data"
    }
   ],
   "source": [
    "sns.distplot(df_modelo_trabalhado['media_geral_aluno'])"
   ]
  },
  {
   "cell_type": "markdown",
   "metadata": {},
   "source": [
    "#### 2. Modelo de Random Forest - base completa - dependente nota"
   ]
  },
  {
   "cell_type": "code",
   "execution_count": 27,
   "metadata": {},
   "outputs": [],
   "source": [
    "X = df_modelo_trabalhado[[k for k in list(df_modelo_trabalhado) if k not in ['index',\n",
    " 'NU_INSCRICAO',\n",
    " 'NU_IDADE',\n",
    " 'TP_SEXO',\n",
    " 'TP_ESTADO_CIVIL',\n",
    " 'TP_COR_RACA',\n",
    " 'TP_ST_CONCLUSAO',\n",
    " 'TP_ENSINO',\n",
    " 'CO_MUNICIPIO_RESIDENCIA',\n",
    " 'CO_MUNICIPIO_ESC',\n",
    " 'SG_UF_ESC_x',\n",
    " 'TP_DEPENDENCIA_ADM_ESC_x',\n",
    " 'TP_LOCALIZACAO_ESC_x','CO_MUNICIPIO_PROVA','Q001',\n",
    " 'Q002',\n",
    " 'Q003',\n",
    " 'Q004',\n",
    " 'Q005',\n",
    " 'Q007',\n",
    " 'Q008',\n",
    " 'Q009',\n",
    " 'Q010',\n",
    " 'Q011',\n",
    " 'Q012',\n",
    " 'Q013',\n",
    " 'Q014',\n",
    " 'Q015',\n",
    " 'Q016',\n",
    " 'Q017',\n",
    " 'Q018',\n",
    " 'Q019',\n",
    " 'Q020',\n",
    " 'Q021',\n",
    " 'Q022',\n",
    " 'Q023',\n",
    " 'Q024',\n",
    " 'Q025',\n",
    " 'Q026',\n",
    " 'Q027',\n",
    " 'Q028',\n",
    " 'Q029',\n",
    " 'Q030',\n",
    " 'Q031',\n",
    " 'Q032',\n",
    " 'Q033',\n",
    " 'Q034',\n",
    " 'Q035',\n",
    " 'Q036',\n",
    " 'Q037',\n",
    " 'Q038',\n",
    " 'Q039',\n",
    " 'Q040',\n",
    " 'Q041',\n",
    " 'Q042',\n",
    " 'Q043',\n",
    " 'Q044',\n",
    " 'Q045',\n",
    " 'Q046',\n",
    " 'Q047',\n",
    " 'Q048',\n",
    " 'Q049',\n",
    " 'Q050\\n','faixa_renda','renda_per_capita','renda_per_capita_media_classe_quartil',\n",
    " 'in_qualif_docente_media_classe_quartil',\n",
    " 'NU_COMP_ALUNO_por_aluno_classe_quartil',\n",
    " 'NU_EQUIP_MULTIMIDIA_por_aluno_classe_quartil',\n",
    " 'NU_FUNCIONARIOS_por_aluno_classe_quartil',\n",
    " 'percentual_de_salas_utilizadas_classe_quartil',\n",
    " 'num_alunos_por_SALA_classe_quartil',\n",
    " 'faixa_valor_IEE','dummy_600',\n",
    " 'media_geral_aluno',\n",
    " 'categoria_idade',\n",
    " 'categoria_num_pessoas_domicilio','TP_ESTADO_CIVIL_','label']]]\n",
    "y = df_modelo_trabalhado['media_geral_aluno']\n",
    "#X_train, X_test, y_train, y_test = train_test_split(X, y, random_state=0)"
   ]
  },
  {
   "cell_type": "code",
   "execution_count": 28,
   "metadata": {
    "collapsed": true
   },
   "outputs": [],
   "source": [
    "# Use numpy to convert to arrays\n",
    "# Labels are the values we want to predict\n",
    "labels = np.array(y)\n",
    "# Saving feature names for later use\n",
    "feature_list = list(X.columns)\n",
    "# Convert to numpy array\n",
    "features = np.array(X)"
   ]
  },
  {
   "cell_type": "code",
   "execution_count": 29,
   "metadata": {
    "collapsed": true
   },
   "outputs": [],
   "source": [
    "train_features, test_features, train_labels, test_labels = train_test_split(features, labels, test_size = 0.1, random_state = 42)"
   ]
  },
  {
   "cell_type": "code",
   "execution_count": 30,
   "metadata": {},
   "outputs": [
    {
     "name": "stdout",
     "output_type": "stream",
     "text": [
      "Training Features Shape: (1238743, 282)\n",
      "Training Labels Shape: (1238743,)\n",
      "Testing Features Shape: (137639, 282)\n",
      "Testing Labels Shape: (137639,)\n"
     ]
    }
   ],
   "source": [
    "print('Training Features Shape:', train_features.shape)\n",
    "print('Training Labels Shape:', train_labels.shape)\n",
    "print('Testing Features Shape:', test_features.shape)\n",
    "print('Testing Labels Shape:', test_labels.shape)"
   ]
  },
  {
   "cell_type": "code",
   "execution_count": 202,
   "metadata": {
    "collapsed": true
   },
   "outputs": [],
   "source": [
    "# Instantiate model with 1000 decision trees\n",
    "rf = RandomForestRegressor(n_estimators = 1000, random_state = 42)\n",
    "# Train the model on training data\n",
    "rf.fit(train_features, train_labels);"
   ]
  },
  {
   "cell_type": "code",
   "execution_count": 203,
   "metadata": {
    "collapsed": true
   },
   "outputs": [],
   "source": [
    "predictions = rf.predict(test_features)"
   ]
  },
  {
   "cell_type": "code",
   "execution_count": 221,
   "metadata": {
    "collapsed": true
   },
   "outputs": [],
   "source": [
    "errors = abs(predictions - test_labels)"
   ]
  },
  {
   "cell_type": "code",
   "execution_count": 222,
   "metadata": {},
   "outputs": [
    {
     "name": "stdout",
     "output_type": "stream",
     "text": [
      "Mean Absolute Error: 48.33 pontos.\n"
     ]
    }
   ],
   "source": [
    "print('Mean Absolute Error:', round(np.mean(errors), 2), 'pontos.')"
   ]
  },
  {
   "cell_type": "code",
   "execution_count": 223,
   "metadata": {},
   "outputs": [
    {
     "data": {
      "text/plain": [
       "array([[ 1.        ,  0.63646888],\n",
       "       [ 0.63646888,  1.        ]])"
      ]
     },
     "execution_count": 223,
     "metadata": {},
     "output_type": "execute_result"
    }
   ],
   "source": [
    "np.corrcoef(predictions, test_labels)"
   ]
  },
  {
   "cell_type": "code",
   "execution_count": 227,
   "metadata": {
    "scrolled": true
   },
   "outputs": [
    {
     "name": "stdout",
     "output_type": "stream",
     "text": [
      "Accuracy: 85.8 %.\n"
     ]
    }
   ],
   "source": [
    "# Calculate mean absolute percentage error (MAPE)\n",
    "test_labels_100 = np.copy(test_labels)\n",
    "test_labels_100[test_labels_100 == 0] = 1\n",
    "mape = 100 * (errors / test_labels_100)\n",
    "# Calculate and display accuracy\n",
    "accuracy = 100 - np.mean(mape)\n",
    "print('Accuracy:', round(accuracy, 2), '%.')"
   ]
  },
  {
   "cell_type": "code",
   "execution_count": null,
   "metadata": {
    "collapsed": true
   },
   "outputs": [],
   "source": []
  },
  {
   "cell_type": "code",
   "execution_count": 203,
   "metadata": {
    "collapsed": true
   },
   "outputs": [],
   "source": [
    "predictions_train = rf.predict(train_features)"
   ]
  },
  {
   "cell_type": "code",
   "execution_count": 221,
   "metadata": {
    "collapsed": true
   },
   "outputs": [],
   "source": [
    "errors_train = abs(predictions_train - train_labels)"
   ]
  },
  {
   "cell_type": "code",
   "execution_count": null,
   "metadata": {},
   "outputs": [],
   "source": [
    "print('Mean Absolute Error (previsao):', round(np.mean(errors_train), 2), 'pontos.')"
   ]
  },
  {
   "cell_type": "markdown",
   "metadata": {
    "collapsed": true
   },
   "source": [
    "#### 3. Modelo normalizado (ajustei parâmetros de profundidade máxima e split mínimo)¶"
   ]
  },
  {
   "cell_type": "code",
   "execution_count": null,
   "metadata": {
    "collapsed": true
   },
   "outputs": [],
   "source": [
    "# Modelo normalizado\n",
    "rf_small = RandomForestRegressor(n_estimators = 1000, min_samples_split = 10, max_depth = 20, random_state = 42, verbose = 1, n_jobs = -1)\n",
    "# Treinando o modelo\n",
    "rf_small.fit(train_features, train_labels);"
   ]
  },
  {
   "cell_type": "code",
   "execution_count": null,
   "metadata": {
    "collapsed": true
   },
   "outputs": [],
   "source": [
    "predictions_small = rf_small.predict(test_features)"
   ]
  },
  {
   "cell_type": "code",
   "execution_count": null,
   "metadata": {
    "collapsed": true
   },
   "outputs": [],
   "source": [
    "errors_small = abs(predictions_small - test_labels)"
   ]
  },
  {
   "cell_type": "code",
   "execution_count": null,
   "metadata": {
    "collapsed": true
   },
   "outputs": [],
   "source": [
    "print('Mean Absolute Error (no conjunto de teste):', round(np.mean(errors_small), 2), 'pontos.')"
   ]
  },
  {
   "cell_type": "code",
   "execution_count": null,
   "metadata": {
    "collapsed": true
   },
   "outputs": [],
   "source": [
    "# Correlação entre previsoes e notas reais\n",
    "np.corrcoef(predictions_small, test_labels)"
   ]
  },
  {
   "cell_type": "code",
   "execution_count": null,
   "metadata": {
    "collapsed": true
   },
   "outputs": [],
   "source": [
    "# Calculando o mean absolute percentage error (MAPE)\n",
    "test_labels_100 = np.copy(test_labels)\n",
    "test_labels_100[test_labels_100 == 0] = 1\n",
    "mape = 100 * (errors_small / test_labels_100)\n",
    "# Calculate and display accuracy\n",
    "accuracy = 100 - np.mean(mape)\n",
    "print('Accuracy:', round(accuracy, 2), '%.')"
   ]
  },
  {
   "cell_type": "code",
   "execution_count": null,
   "metadata": {
    "collapsed": true
   },
   "outputs": [],
   "source": [
    "# Plotando previsoes\n",
    "predictions_data = pd.DataFrame(data = {'prediction': predictions_small, 'labels': test_labels}).sort_values('labels').reset_index()\n",
    "predictions_data['index'] = predictions_data.index\n",
    "#predictions_data['classe'] = predictions_data['labels'].map(grupo_nota)\n",
    "predictions_data['classe_menor'] = pd.cut(predictions_data['labels'], 100, labels=range(1,101))\n",
    "predictions_data_group = predictions_data.groupby(['classe_menor']).agg({'labels': 'median', 'prediction': 'median'})\n",
    "predictions_data_group = predictions_data_group.dropna(axis=0, how='all').reset_index()"
   ]
  },
  {
   "cell_type": "code",
   "execution_count": null,
   "metadata": {
    "collapsed": true
   },
   "outputs": [],
   "source": [
    "plt.plot(predictions_data_group.index, predictions_data_group['labels'], 'g', label = 'labels')\n",
    "plt.plot(predictions_data_group.index, predictions_data_group['prediction'], 'ro', label = 'prediction')"
   ]
  },
  {
   "cell_type": "code",
   "execution_count": null,
   "metadata": {
    "collapsed": true
   },
   "outputs": [],
   "source": []
  },
  {
   "cell_type": "code",
   "execution_count": null,
   "metadata": {
    "collapsed": true
   },
   "outputs": [],
   "source": [
    "predictions_train_small = rf_small.predict(train_features)"
   ]
  },
  {
   "cell_type": "code",
   "execution_count": null,
   "metadata": {
    "collapsed": true
   },
   "outputs": [],
   "source": [
    "errors_train_small = abs(predictions_train_small - train_labels)"
   ]
  },
  {
   "cell_type": "code",
   "execution_count": null,
   "metadata": {
    "collapsed": true
   },
   "outputs": [],
   "source": [
    "print('Mean Absolute Error (no conjunto de treino):', round(np.mean(errors_train_small), 2), 'pontos.')"
   ]
  },
  {
   "cell_type": "code",
   "execution_count": null,
   "metadata": {
    "collapsed": true
   },
   "outputs": [],
   "source": [
    "np.corrcoef(predictions_train_small, train_labels)"
   ]
  },
  {
   "cell_type": "code",
   "execution_count": null,
   "metadata": {
    "collapsed": true
   },
   "outputs": [],
   "source": [
    "# Calculando o mean absolute percentage error (MAPE)\n",
    "train_labels_100 = np.copy(train_labels)\n",
    "train_labels_100[train_labels_100 == 0] = 1\n",
    "mape = 100 * (errors_train_small / train_labels_100)\n",
    "# Calculate and display accuracy\n",
    "accuracy = 100 - np.mean(mape)\n",
    "print('Accuracy:', round(accuracy, 2), '%.')"
   ]
  },
  {
   "cell_type": "code",
   "execution_count": null,
   "metadata": {
    "collapsed": true
   },
   "outputs": [],
   "source": [
    "# Calculando numerical feature importances\n",
    "importances = list(rf_small.feature_importances_)\n",
    "# List of tuples with variable and importance\n",
    "feature_importances = [(feature, round(importance, 2)) for feature, importance in zip(feature_list, importances)]\n",
    "# Sort the feature importances by most important first\n",
    "feature_importances = sorted(feature_importances, key = lambda x: x[1], reverse = True)\n",
    "# Print out the feature and importances \n",
    "[print('Variable: {:20} Importance: {}'.format(*pair)) for pair in feature_importances]"
   ]
  },
  {
   "cell_type": "code",
   "execution_count": null,
   "metadata": {
    "collapsed": true
   },
   "outputs": [],
   "source": []
  }
 ],
 "metadata": {
  "kernelspec": {
   "display_name": "Python 3",
   "language": "python",
   "name": "python3"
  },
  "language_info": {
   "codemirror_mode": {
    "name": "ipython",
    "version": 3
   },
   "file_extension": ".py",
   "mimetype": "text/x-python",
   "name": "python",
   "nbconvert_exporter": "python",
   "pygments_lexer": "ipython3",
   "version": "3.6.1"
  }
 },
 "nbformat": 4,
 "nbformat_minor": 2
}
